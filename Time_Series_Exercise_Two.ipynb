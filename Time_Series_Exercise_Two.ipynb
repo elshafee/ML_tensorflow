{
  "cells": [
    {
      "cell_type": "markdown",
      "metadata": {
        "id": "view-in-github",
        "colab_type": "text"
      },
      "source": [
        "<a href=\"https://colab.research.google.com/github/elshafee/ML_tensorflow/blob/main/Time_Series_Exercise_Two.ipynb\" target=\"_parent\"><img src=\"https://colab.research.google.com/assets/colab-badge.svg\" alt=\"Open In Colab\"/></a>"
      ]
    },
    {
      "cell_type": "code",
      "execution_count": 4,
      "metadata": {
        "colab": {
          "base_uri": "https://localhost:8080/"
        },
        "id": "tiB_Bw608JzC",
        "outputId": "a0cb97e3-9cfb-401f-ea20-f16914a04ffe"
      },
      "outputs": [
        {
          "output_type": "stream",
          "name": "stdout",
          "text": [
            "()\n",
            "Epoch 1/10\n",
            "93/93 [==============================] - 9s 46ms/step - loss: 0.0793\n",
            "Epoch 2/10\n",
            "93/93 [==============================] - 5s 49ms/step - loss: 0.0524\n",
            "Epoch 3/10\n",
            "93/93 [==============================] - 5s 49ms/step - loss: 0.0486\n",
            "Epoch 4/10\n",
            "93/93 [==============================] - 5s 48ms/step - loss: 0.0464\n",
            "Epoch 5/10\n",
            "93/93 [==============================] - 5s 47ms/step - loss: 0.0461\n",
            "Epoch 6/10\n",
            "93/93 [==============================] - 4s 46ms/step - loss: 0.0453\n",
            "Epoch 7/10\n",
            "93/93 [==============================] - 4s 43ms/step - loss: 0.0451\n",
            "Epoch 8/10\n",
            "93/93 [==============================] - 5s 48ms/step - loss: 0.0448\n",
            "Epoch 9/10\n",
            "93/93 [==============================] - 5s 48ms/step - loss: 0.0450\n",
            "Epoch 10/10\n",
            "93/93 [==============================] - 5s 51ms/step - loss: 0.0448\n",
            "5\n"
          ]
        }
      ],
      "source": [
        "import csv\n",
        "import tensorflow as tf\n",
        "import numpy as np\n",
        "import urllib\n",
        "import math\n",
        "physical_devices = tf.config.list_physical_devices('GPU')\n",
        "try:\n",
        "    tf.config.experimental.set_memory_growth(physical_devices[0], True)\n",
        "except:\n",
        "    pass\n",
        "\n",
        "\n",
        "# DO NOT CHANGE THIS CODE\n",
        "def windowed_dataset(series, window_size, batch_size, shuffle_buffer):\n",
        "    series = tf.expand_dims(series, axis=-1)\n",
        "    ds = tf.data.Dataset.from_tensor_slices(series)\n",
        "    ds = ds.window(window_size + 1, shift=1, drop_remainder=True)\n",
        "    ds = ds.flat_map(lambda w: w.batch(window_size + 1))\n",
        "    ds = ds.shuffle(shuffle_buffer)\n",
        "    ds = ds.map(lambda w: (w[:-1], w[1:]))\n",
        "    return ds.batch(batch_size).prefetch(1)\n",
        "\n",
        "def model_forecast(model, series, window_size):\n",
        "   ds = tf.data.Dataset.from_tensor_slices(series)\n",
        "   ds = ds.window(window_size, shift=1, drop_remainder=True)\n",
        "   ds = ds.flat_map(lambda w: w.batch(window_size))\n",
        "   ds = ds.batch(32).prefetch(1)\n",
        "   forecast = model.predict(ds)\n",
        "   return forecast\n",
        "\n",
        "\n",
        "def solution_model():\n",
        "    url = 'https://storage.googleapis.com/download.tensorflow.org/data/Sunspots.csv'\n",
        "    urllib.request.urlretrieve(url, 'sunspots.csv')\n",
        "\n",
        "    time_step = []\n",
        "    sunspots = []\n",
        "\n",
        "    with open('sunspots.csv') as csvfile:\n",
        "        reader = csv.reader(csvfile, delimiter=',')\n",
        "        next(reader)\n",
        "        for row in reader:\n",
        "            sunspots.append(float(row[2]))\n",
        "            time_step.append(int(row[0]))\n",
        "\n",
        "    series = np.array(sunspots)\n",
        "    # DO NOT CHANGE THIS CODE\n",
        "    # This is the normalization function\n",
        "    min = np.min(series)\n",
        "    max = np.max(series)\n",
        "    series -= min\n",
        "    series /= max\n",
        "    time = np.array(time_step)\n",
        "\n",
        "    # The data should be split into training and validation sets at time step 3000\n",
        "    # DO NOT CHANGE THIS CODE\n",
        "    split_time = 3000\n",
        "\n",
        "\n",
        "    time_train = time[:split_time]\n",
        "    x_train = series[:split_time]\n",
        "    time_valid = time[split_time:]\n",
        "    x_valid = series[split_time:]\n",
        "\n",
        "    # DO NOT CHANGE THIS CODE\n",
        "    window_size = 30\n",
        "    batch_size = 32\n",
        "    shuffle_buffer_size = 1000\n",
        "\n",
        "    train_set = windowed_dataset(x_train, window_size=window_size, batch_size=batch_size,\n",
        "                                 shuffle_buffer=shuffle_buffer_size)\n",
        "\n",
        "    print(np.array(train_set).shape)\n",
        "\n",
        "    model = tf.keras.models.Sequential([\n",
        "        tf.keras.layers.Conv1D(filters=60, kernel_size=5,\n",
        "                               strides=1, padding=\"causal\",\n",
        "                               activation=\"relu\",\n",
        "                               input_shape=[None, 1]),\n",
        "        tf.keras.layers.LSTM(60, return_sequences=True),\n",
        "        tf.keras.layers.LSTM(60, return_sequences=True),\n",
        "        tf.keras.layers.Dense(30, activation=\"relu\"),\n",
        "        tf.keras.layers.Dense(10, activation=\"relu\"),\n",
        "        tf.keras.layers.Dense(1)\n",
        "    ])\n",
        "\n",
        "\n",
        "    rnn_forecast = model_forecast(model, series[..., np.newaxis], window_size)\n",
        "    rnn_forecast = rnn_forecast[split_time - window_size:-1, -1, 0]\n",
        "    result = tf.keras.metrics.mean_absolute_error(x_valid, rnn_forecast).numpy()\n",
        "    test_val = 100 * result\n",
        "    score = math.ceil(17 - test_val)\n",
        "    if score > 5:\n",
        "      score = 5\n",
        "\n",
        "    print(score)    \n",
        "    return model\n",
        "\n",
        "if __name__ == '__main__':\n",
        "    model = solution_model()\n",
        "    model.save(\"mymodel.h5\")\n",
        "\n",
        "# THIS CODE IS USED IN THE TESTER FOR FORECASTING. IF YOU WANT TO TEST YOUR MODEL\n",
        "# BEFORE UPLOADING YOU CAN DO IT WITH THIS\n",
        "\n",
        "\n",
        "\n",
        "\n"
      ]
    },
    {
      "cell_type": "code",
      "execution_count": null,
      "metadata": {
        "colab": {
          "base_uri": "https://localhost:8080/",
          "height": 164
        },
        "id": "eJb257HfBBh_",
        "outputId": "a816c43c-1f28-474b-83fe-0891c5187261"
      },
      "outputs": [
        {
          "ename": "NameError",
          "evalue": "ignored",
          "output_type": "error",
          "traceback": [
            "\u001b[0;31m---------------------------------------------------------------------------\u001b[0m",
            "\u001b[0;31mNameError\u001b[0m                                 Traceback (most recent call last)",
            "\u001b[0;32m<ipython-input-1-4405d376f933>\u001b[0m in \u001b[0;36m<module>\u001b[0;34m()\u001b[0m\n\u001b[0;32m----> 1\u001b[0;31m \u001b[0mprint\u001b[0m\u001b[0;34m(\u001b[0m\u001b[0mscore\u001b[0m\u001b[0;34m)\u001b[0m\u001b[0;34m\u001b[0m\u001b[0;34m\u001b[0m\u001b[0m\n\u001b[0m",
            "\u001b[0;31mNameError\u001b[0m: name 'score' is not defined"
          ]
        }
      ],
      "source": [
        "print(score)"
      ]
    }
  ],
  "metadata": {
    "colab": {
      "name": "Time_Series_Exercise_Two.ipynb",
      "provenance": [],
      "authorship_tag": "ABX9TyPjGLfivvFc5lHiKsjtOFyH",
      "include_colab_link": true
    },
    "kernelspec": {
      "display_name": "Python 3",
      "name": "python3"
    },
    "language_info": {
      "name": "python"
    }
  },
  "nbformat": 4,
  "nbformat_minor": 0
}